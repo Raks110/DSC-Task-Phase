{
 "cells": [
  {
   "cell_type": "markdown",
   "metadata": {},
   "source": [
    "# Cleaning the Dataset"
   ]
  },
  {
   "cell_type": "markdown",
   "metadata": {},
   "source": [
    "Importing Pandas"
   ]
  },
  {
   "cell_type": "code",
   "execution_count": 1,
   "metadata": {},
   "outputs": [],
   "source": [
    "import os\n",
    "import numpy as np\n",
    "import pandas as pd\n",
    "import matplotlib.pyplot as plt\n",
    "from sklearn import preprocessing\n",
    "%matplotlib inline"
   ]
  },
  {
   "cell_type": "markdown",
   "metadata": {},
   "source": [
    "Reading the CSV file through Pandas"
   ]
  },
  {
   "cell_type": "code",
   "execution_count": 2,
   "metadata": {},
   "outputs": [],
   "source": [
    "dataset = pd.read_csv(\n",
    "    \"F:\\Data_Science\\winequalityN.csv\",\n",
    "    header = 0       \n",
    ")"
   ]
  },
  {
   "cell_type": "markdown",
   "metadata": {},
   "source": [
    "Filling missing data with mean value of the given column and replacing strings in Type with integers"
   ]
  },
  {
   "cell_type": "code",
   "execution_count": 3,
   "metadata": {},
   "outputs": [],
   "source": [
    "dataset.fillna(dataset.mean(),inplace = True)"
   ]
  },
  {
   "cell_type": "code",
   "execution_count": 4,
   "metadata": {},
   "outputs": [],
   "source": [
    "dataset.replace(\n",
    "    to_replace = [\"red\",\"white\"],\n",
    "    value = [1,2],\n",
    "    inplace = True\n",
    ")"
   ]
  },
  {
   "cell_type": "markdown",
   "metadata": {},
   "source": [
    "Plotting pH vs Alcohol content"
   ]
  },
  {
   "cell_type": "code",
   "execution_count": 5,
   "metadata": {},
   "outputs": [
    {
     "data": {
      "text/plain": [
       "(0, 80)"
      ]
     },
     "execution_count": 5,
     "metadata": {},
     "output_type": "execute_result"
    },
    {
     "data": {
      "image/png": "[encoded data removed]",
      "text/plain": [
       "<Figure size 2880x504 with 1 Axes>"
      ]
     },
     "metadata": {
      "needs_background": "light"
     },
     "output_type": "display_data"
    }
   ],
   "source": [
    "datasetSorted = dataset.sort_values('pH',inplace = False)\n",
    "\n",
    "ax= datasetSorted.plot(\n",
    "    x = 'pH',\n",
    "    y = 'alcohol',\n",
    "    kind = 'bar',\n",
    "    figsize = (40,7),\n",
    "    colormap = 'magma'\n",
    ")\n",
    "\n",
    "ax.set_xlim(0,80)"
   ]
  },
  {
   "cell_type": "markdown",
   "metadata": {},
   "source": [
    "Normalizing Dataset for Model Usage"
   ]
  },
  {
   "cell_type": "code",
   "execution_count": 17,
   "metadata": {},
   "outputs": [
    {
     "name": "stderr",
     "output_type": "stream",
     "text": [
      "C:\\Users\\hp\\Anaconda3\\envs\\TensorFlowEnv\\lib\\site-packages\\sklearn\\preprocessing\\data.py:323: DataConversionWarning: Data with input dtype int64, float64 were all converted to float64 by MinMaxScaler.\n",
      "  return self.partial_fit(X, y)\n"
     ]
    }
   ],
   "source": [
    "min_max_scaler = preprocessing.MinMaxScaler()\n",
    "np_scaled = min_max_scaler.fit_transform(dataset)\n",
    "datasetEdit = pd.DataFrame(np_scaled)"
   ]
  },
  {
   "cell_type": "markdown",
   "metadata": {},
   "source": [
    "# Building the ML Model"
   ]
  },
  {
   "cell_type": "markdown",
   "metadata": {},
   "source": [
    "Importing necessary libraries"
   ]
  },
  {
   "cell_type": "code",
   "execution_count": 18,
   "metadata": {},
   "outputs": [],
   "source": [
    "import tensorflow as tf\n",
    "import numpy as np\n",
    "import math"
   ]
  },
  {
   "cell_type": "markdown",
   "metadata": {},
   "source": [
    "Bifurgating X and Y vectors"
   ]
  },
  {
   "cell_type": "code",
   "execution_count": 19,
   "metadata": {},
   "outputs": [],
   "source": [
    "from keras.utils import to_categorical"
   ]
  },
  {
   "cell_type": "code",
   "execution_count": 44,
   "metadata": {},
   "outputs": [],
   "source": [
    "X = datasetEdit.iloc[:,0:dataset.shape[1]-1]\n",
    "Y = datasetEdit.iloc[:,dataset.shape[1]-1:dataset.shape[1]]\n",
    "\n",
    "X_train = X.iloc[0:math.ceil(X.shape[0]*0.8),:]\n",
    "X_train = X_train\n",
    "Y_train = Y.iloc[0:math.ceil(Y.shape[0]*0.8),:]\n",
    "\n",
    "Y_train = (Y_train)\n",
    "\n",
    "X_test = X.iloc[math.ceil(X.shape[0]*0.8):X.shape[0],:]\n",
    "X_test = X_test\n",
    "Y_test = Y.iloc[math.ceil(Y.shape[0]*0.8):Y.shape[0],:]\n",
    "Y_test = (Y_test)\n",
    "\n",
    "#integers = Y_train.values\n",
    "#encoded = to_categorical(integers,num_classes=11)\n",
    "#Y_train = encoded[:,:,1:encoded.shape[2]]\n",
    "\n",
    "#Y_train = Y_train.reshape(10,5198)\n",
    "\n",
    "#integers = Y_test.values\n",
    "#encoded = to_categorical(integers,num_classes=11)\n",
    "#Y_test = encoded[:,:,1:encoded.shape[2]]\n",
    "\n",
    "#Y_test = Y_test.reshape(10,1299)"
   ]
  },
  {
   "cell_type": "code",
   "execution_count": 45,
   "metadata": {},
   "outputs": [
    {
     "name": "stdout",
     "output_type": "stream",
     "text": [
      "Number of Training Examples: 12\n",
      "Number of Features: 5198\n",
      "Shape of Input Training Vector X: (5198, 12)\n",
      "Shape of Output Training Vector Y: (5198, 1)\n",
      "Number of Testing Examples: 1299\n",
      "Shape of Input Testing Vector X: (1299, 12)\n",
      "Shape of Output Testing Vector Y: (1299, 1)\n"
     ]
    }
   ],
   "source": [
    "print(\"Number of Training Examples: \"+str(X_train.shape[1]))\n",
    "print(\"Number of Features: \"+str(X_train.shape[0]))\n",
    "print(\"Shape of Input Training Vector X: \"+str(X_train.shape))\n",
    "print(\"Shape of Output Training Vector Y: \"+str(Y_train.shape))\n",
    "\n",
    "print(\"Number of Testing Examples: \"+str(X_test.shape[0]))\n",
    "print(\"Shape of Input Testing Vector X: \"+str(X_test.shape))\n",
    "print(\"Shape of Output Testing Vector Y: \"+str(Y_test.shape))"
   ]
  },
  {
   "cell_type": "markdown",
   "metadata": {},
   "source": [
    "Defining and Initializing Data"
   ]
  },
  {
   "cell_type": "code",
   "execution_count": 46,
   "metadata": {},
   "outputs": [],
   "source": [
    "def create(n_x,n_y):\n",
    "    X = tf.placeholder(tf.float32,[None,n_x],name='X')\n",
    "    Y = tf.placeholder(tf.float32,[None,n_y],name='Y')\n",
    "    \n",
    "    return X,Y"
   ]
  },
  {
   "cell_type": "markdown",
   "metadata": {},
   "source": [
    "Parameter Initialization"
   ]
  },
  {
   "cell_type": "code",
   "execution_count": 47,
   "metadata": {},
   "outputs": [],
   "source": [
    "def parameters():\n",
    "    \n",
    "    #W1 = tf.get_variable(\"W1\", [10, 12],dtype=tf.float32, initializer = tf.contrib.layers.xavier_initializer())\n",
    "    W1 = tf.get_variable(\"W1\", [12, 6],dtype=tf.float32, initializer = tf.contrib.layers.xavier_initializer())\n",
    "    b1 = tf.get_variable(\"b1\", [1, 6],dtype=tf.float32, initializer = tf.zeros_initializer())\n",
    "    W2 = tf.get_variable(\"W2\", [6, 1],dtype=tf.float32, initializer = tf.contrib.layers.xavier_initializer())\n",
    "    b2 = tf.get_variable(\"b2\", [1, 1],dtype=tf.float32, initializer = tf.zeros_initializer())\n",
    "    #W3 = tf.get_variable(\"W3\", [10, 12],dtype=tf.float32, initializer = tf.contrib.layers.xavier_initializer())\n",
    "    #b3 = tf.get_variable(\"b3\", [10, 1],dtype=tf.float32, initializer = tf.zeros_initializer())\n",
    "    #W4 = tf.get_variable(\"W4\", [10, 12],dtype=tf.float32, initializer = tf.contrib.layers.xavier_initializer())\n",
    "    #b4 = tf.get_variable(\"b4\", [10, 1],dtype=tf.float32, initializer = tf.zeros_initializer())\n",
    "    \n",
    "    parSet = {\n",
    "        \"W1\": W1,\n",
    "        \"b1\": b1,\n",
    "        \"W2\":W2,\n",
    "        \"b2\":b2\n",
    "    }\n",
    "    \n",
    "    return parSet"
   ]
  },
  {
   "cell_type": "markdown",
   "metadata": {},
   "source": [
    "Forward Propagation Function"
   ]
  },
  {
   "cell_type": "code",
   "execution_count": 48,
   "metadata": {},
   "outputs": [],
   "source": [
    "def forprop(X,parSet):\n",
    "    \n",
    "    Z1 = tf.add(tf.matmul(X,parSet['W1']), parSet['b1'])\n",
    "    A1 = tf.nn.relu(Z1)\n",
    "    \n",
    "    Z2 = tf.add(tf.matmul(A1,parSet['W2']), parSet['b2'])\n",
    "    A2 = tf.nn.sigmoid(Z2)\n",
    "    \n",
    "    \"\"\"Z3 = tf.add(tf.matmul(parSet['W3'], A2), parSet['b3'])\n",
    "    A3 = tf.nn.softmax(Z3)\n",
    "    \n",
    "    Z4 = tf.add(tf.matmul(parSet['W4'],A3),parSet['b4'])\"\"\"\n",
    "    \n",
    "    return A2"
   ]
  },
  {
   "cell_type": "markdown",
   "metadata": {},
   "source": [
    "Cost Computation"
   ]
  },
  {
   "cell_type": "code",
   "execution_count": 49,
   "metadata": {},
   "outputs": [],
   "source": [
    "def cost_value(Z3,Y):\n",
    "    \n",
    "    logits = tf.transpose(Z3)\n",
    "    labels = tf.transpose(Y)\n",
    "    \n",
    "    #logits = tf.argmax(Z3)\n",
    "    #labels = tf.argmax(Y)\n",
    "    \n",
    "    cost = tf.reduce_mean(tf.losses.mean_squared_error(predictions=logits,labels=labels))\n",
    "    \n",
    "    return cost"
   ]
  },
  {
   "cell_type": "markdown",
   "metadata": {},
   "source": [
    "Gradient Descent and Model Definition"
   ]
  },
  {
   "cell_type": "code",
   "execution_count": 50,
   "metadata": {},
   "outputs": [],
   "source": [
    "def model(X_train,Y_train,X_test,Y_test,learning_rate=0.001,epoches=2000,batch_size=113):\n",
    "    \n",
    "    tf.reset_default_graph()\n",
    "    \n",
    "    (m,n_x) = X_train.shape\n",
    "    n_y = Y_train.shape[1]\n",
    "    \n",
    "    costs = []\n",
    "    accuracy = []\n",
    "    X, Y = create(n_x, n_y)\n",
    "    parSet = parameters()\n",
    "    Z3 = forprop(X, parSet)\n",
    "    cost = cost_value(Z3, Y)\n",
    "    \n",
    "    optimizer = tf.train.AdamOptimizer(learning_rate=learning_rate).minimize(cost)\n",
    "    \n",
    "    init = tf.global_variables_initializer()\n",
    "    \n",
    "    with tf.Session() as sess:\n",
    "        sess.run(init)\n",
    "        \n",
    "        for epoch in range(epoches):\n",
    "            \n",
    "            epoch_cost = 0\n",
    "            batches = int(m/batch_size)\n",
    "            \n",
    "            for j in range(batches):\n",
    "                \n",
    "                start = j*batch_size\n",
    "                end = (j+1)*batch_size\n",
    "                \n",
    "                _ , minibatch_cost = sess.run([optimizer, cost], feed_dict={X: X_train.iloc[start:end,:], Y: Y_train.iloc[start:end,:]})\n",
    "                \n",
    "                epoch_cost += minibatch_cost / batches\n",
    "                #epoch_accuracy += accuracy_batch / batches\n",
    "                \n",
    "            if epoch % 100 == 0:\n",
    "                print (\"Cost after epoch %i: %f\" % (epoch, epoch_cost))\n",
    "                #print (\"Cost after epoch %i: %f\" % (epoch, epoch_accuracy))\n",
    "            if epoch % 5 == 0:\n",
    "                costs.append(epoch_cost)\n",
    "                #accuracy.append(epoch_accuracy)\n",
    "                    \n",
    "        print (\"Cost after epoch 2000: %f\" % (epoch_cost))\n",
    "                    \n",
    "        plt.plot(np.squeeze(costs))\n",
    "        plt.ylabel('cost')\n",
    "        plt.xlabel('iterations (per tens)')\n",
    "        plt.title(\"Learning rate =\" + str(learning_rate))\n",
    "        plt.show()\n",
    "        \n",
    "        parSet = sess.run(parSet)\n",
    "        correct_prediction = tf.equal(tf.reduce_max(Z3, reduction_indices=[1]),tf.reduce_max(Y, reduction_indices=[1]))\n",
    "        correct_prediction = tf.equal(tf.argmax(Z3),tf.argmax(Y))\n",
    "        \n",
    "        accuracy = tf.reduce_mean(tf.cast(correct_prediction, \"float\"))\n",
    "        print(\"Train Accuracy:\", accuracy.eval({X: X_train, Y: Y_train}))\n",
    "        print(\"Test Accuracy:\", accuracy.eval({X: X_test, Y: Y_test}))\n",
    "        \n",
    "        return parSet"
   ]
  },
  {
   "cell_type": "code",
   "execution_count": 51,
   "metadata": {},
   "outputs": [
    {
     "name": "stdout",
     "output_type": "stream",
     "text": [
      "Cost after epoch 0: 0.020565\n",
      "Cost after epoch 100: 0.015587\n",
      "Cost after epoch 200: 0.015198\n",
      "Cost after epoch 300: 0.014924\n",
      "Cost after epoch 400: 0.014830\n",
      "Cost after epoch 500: 0.014770\n",
      "Cost after epoch 600: 0.014713\n",
      "Cost after epoch 700: 0.014641\n",
      "Cost after epoch 800: 0.014587\n",
      "Cost after epoch 900: 0.014551\n",
      "Cost after epoch 1000: 0.014522\n",
      "Cost after epoch 1100: 0.014442\n",
      "Cost after epoch 1200: 0.014408\n",
      "Cost after epoch 1300: 0.014351\n",
      "Cost after epoch 1400: 0.014327\n",
      "Cost after epoch 1500: 0.014303\n",
      "Cost after epoch 1600: 0.014289\n",
      "Cost after epoch 1700: 0.014269\n",
      "Cost after epoch 1800: 0.014247\n",
      "Cost after epoch 1900: 0.014227\n",
      "Cost after epoch 2000: 0.014228\n"
     ]
    },
    {
     "data": {
      "image/png": "[encoded data removed]",
      "text/plain": [
       "<Figure size 432x288 with 1 Axes>"
      ]
     },
     "metadata": {
      "needs_background": "light"
     },
     "output_type": "display_data"
    },
    {
     "name": "stdout",
     "output_type": "stream",
     "text": [
      "Train Accuracy: 0.0\n",
      "Test Accuracy: 0.0\n"
     ]
    }
   ],
   "source": [
    "parameters = model(X_train, Y_train, X_test, Y_test)"
   ]
  },
  {
   "cell_type": "code",
   "execution_count": null,
   "metadata": {},
   "outputs": [],
   "source": []
  }
 ],
 "metadata": {
  "kernelspec": {
   "display_name": "Python 3",
   "language": "python",
   "name": "python3"
  },
  "language_info": {
   "codemirror_mode": {
    "name": "ipython",
    "version": 3
   },
   "file_extension": ".py",
   "mimetype": "text/x-python",
   "name": "python",
   "nbconvert_exporter": "python",
   "pygments_lexer": "ipython3",
   "version": "3.6.6"
  }
 },
 "nbformat": 4,
 "nbformat_minor": 2
}
